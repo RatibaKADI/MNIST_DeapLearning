{
 "cells": [
  {
   "cell_type": "code",
   "execution_count": 1,
   "id": "191d141f-5971-419f-855d-72a4ae78d14d",
   "metadata": {
    "tags": []
   },
   "outputs": [
    {
     "name": "stderr",
     "output_type": "stream",
     "text": [
      "/Users/ratibakadi/anaconda3/lib/python3.11/site-packages/keras/src/saving/saving_lib.py:415: UserWarning: Skipping variable loading for optimizer 'rmsprop', because it has 10 variables whereas the saved optimizer has 18 variables. \n",
      "  saveable.load_own_variables(weights_store.get(inner_path))\n"
     ]
    }
   ],
   "source": [
    "import tensorflow as tf\n",
    "\n",
    "model = tf.keras.models.load_model('/Users/ratibakadi/Downloads/modele.keras')\n"
   ]
  },
  {
   "cell_type": "code",
   "execution_count": 17,
   "id": "1b61a714-e7f0-49b8-8872-7f9a6866ba16",
   "metadata": {
    "tags": []
   },
   "outputs": [
    {
     "data": {
      "image/png": "[encoded data removed]",
      "text/plain": [
       "<Figure size 640x480 with 1 Axes>"
      ]
     },
     "metadata": {},
     "output_type": "display_data"
    },
    {
     "name": "stdout",
     "output_type": "stream",
     "text": [
      "\u001b[1m1/1\u001b[0m \u001b[32m━━━━━━━━━━━━━━━━━━━━\u001b[0m\u001b[37m\u001b[0m \u001b[1m0s\u001b[0m 89ms/step\n",
      "La prédiction du modèle est : 8\n"
     ]
    }
   ],
   "source": [
    "import numpy as np\n",
    "import tensorflow as tf\n",
    "from tensorflow.keras.preprocessing import image\n",
    "import matplotlib.pyplot as plt\n",
    "\n",
    "# Chemin vers l'image que tu veux tester\n",
    "image_path = '/Users/ratibakadi/Downloads/wwit.png'\n",
    "\n",
    "# Charger l'image\n",
    "img = image.load_img(image_path, color_mode='grayscale', target_size=(28, 28))\n",
    "\n",
    "# Afficher l'image\n",
    "plt.imshow(img, cmap='gray')\n",
    "plt.axis('off')\n",
    "plt.show()\n",
    "\n",
    "# Convertir l'image en un tableau numpy\n",
    "img_array = image.img_to_array(img)\n",
    "\n",
    "# Normaliser l'image (échelle de 0 à 1)\n",
    "img_array = img_array / 255.0\n",
    "\n",
    "# Reshaper l'image pour qu'elle ait la forme (1, 28, 28, 1)\n",
    "img_array = np.reshape(img_array, (1, 28, 28, 1))\n",
    "\n",
    "# Charger le modèle (si ce n'est pas déjà fait)\n",
    "model = tf.keras.models.load_model('/Users/ratibakadi/Downloads/modele.keras')\n",
    "\n",
    "# Faire la prédiction\n",
    "prediction = model.predict(img_array)\n",
    "\n",
    "# Afficher la prédiction\n",
    "predicted_digit = np.argmax(prediction)\n",
    "print(f\"La prédiction du modèle est : {predicted_digit}\")\n"
   ]
  },
  {
   "cell_type": "code",
   "execution_count": null,
   "id": "98bb4db4-73e3-4abb-8437-9014aa95458d",
   "metadata": {},
   "outputs": [],
   "source": []
  }
 ],
 "metadata": {
  "kernelspec": {
   "display_name": "Python 3 (ipykernel)",
   "language": "python",
   "name": "python3"
  },
  "language_info": {
   "codemirror_mode": {
    "name": "ipython",
    "version": 3
   },
   "file_extension": ".py",
   "mimetype": "text/x-python",
   "name": "python",
   "nbconvert_exporter": "python",
   "pygments_lexer": "ipython3",
   "version": "3.11.5"
  }
 },
 "nbformat": 4,
 "nbformat_minor": 5
}
